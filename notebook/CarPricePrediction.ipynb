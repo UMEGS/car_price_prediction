{
 "cells": [
  {
   "cell_type": "code",
   "execution_count": 1,
   "outputs": [],
   "source": [
    "import pandas as pd\n",
    "import numpy as np"
   ],
   "metadata": {
    "collapsed": false,
    "pycharm": {
     "name": "#%%\n"
    }
   }
  },
  {
   "cell_type": "code",
   "execution_count": 2,
   "outputs": [],
   "source": [
    "dataset = pd.read_csv('dataset/quikr_car.csv')"
   ],
   "metadata": {
    "collapsed": false,
    "pycharm": {
     "name": "#%%\n"
    }
   }
  },
  {
   "cell_type": "code",
   "execution_count": 16,
   "outputs": [],
   "source": [
    "backup = dataset.copy()"
   ],
   "metadata": {
    "collapsed": false,
    "pycharm": {
     "name": "#%%\n"
    }
   }
  },
  {
   "cell_type": "code",
   "execution_count": 15,
   "outputs": [
    {
     "data": {
      "text/plain": "                                       name    company  year          Price  \\\n0      Hyundai Santro Xing XO eRLX Euro III    Hyundai  2007         80,000   \n1                   Mahindra Jeep CL550 MDI   Mahindra  2006       4,25,000   \n2                Maruti Suzuki Alto 800 Vxi     Maruti  2018  Ask For Price   \n3    Hyundai Grand i10 Magna 1.2 Kappa VTVT    Hyundai  2014       3,25,000   \n4          Ford EcoSport Titanium 1.5L TDCi       Ford  2014       5,75,000   \n..                                      ...        ...   ...            ...   \n887                                      Ta       Tara  zest       3,10,000   \n888                     Tata Zest XM Diesel       Tata  2018       2,60,000   \n889                      Mahindra Quanto C8   Mahindra  2013       3,90,000   \n890                Honda Amaze 1.2 E i VTEC      Honda  2014       1,80,000   \n891               Chevrolet Sail 1.2 LT ABS  Chevrolet  2014       1,60,000   \n\n     kms_driven fuel_type  \n0    45,000 kms    Petrol  \n1        40 kms    Diesel  \n2    22,000 kms    Petrol  \n3    28,000 kms    Petrol  \n4    36,000 kms    Diesel  \n..          ...       ...  \n887         NaN       NaN  \n888  27,000 kms    Diesel  \n889  40,000 kms    Diesel  \n890      Petrol       NaN  \n891      Petrol       NaN  \n\n[892 rows x 6 columns]",
      "text/html": "<div>\n<style scoped>\n    .dataframe tbody tr th:only-of-type {\n        vertical-align: middle;\n    }\n\n    .dataframe tbody tr th {\n        vertical-align: top;\n    }\n\n    .dataframe thead th {\n        text-align: right;\n    }\n</style>\n<table border=\"1\" class=\"dataframe\">\n  <thead>\n    <tr style=\"text-align: right;\">\n      <th></th>\n      <th>name</th>\n      <th>company</th>\n      <th>year</th>\n      <th>Price</th>\n      <th>kms_driven</th>\n      <th>fuel_type</th>\n    </tr>\n  </thead>\n  <tbody>\n    <tr>\n      <th>0</th>\n      <td>Hyundai Santro Xing XO eRLX Euro III</td>\n      <td>Hyundai</td>\n      <td>2007</td>\n      <td>80,000</td>\n      <td>45,000 kms</td>\n      <td>Petrol</td>\n    </tr>\n    <tr>\n      <th>1</th>\n      <td>Mahindra Jeep CL550 MDI</td>\n      <td>Mahindra</td>\n      <td>2006</td>\n      <td>4,25,000</td>\n      <td>40 kms</td>\n      <td>Diesel</td>\n    </tr>\n    <tr>\n      <th>2</th>\n      <td>Maruti Suzuki Alto 800 Vxi</td>\n      <td>Maruti</td>\n      <td>2018</td>\n      <td>Ask For Price</td>\n      <td>22,000 kms</td>\n      <td>Petrol</td>\n    </tr>\n    <tr>\n      <th>3</th>\n      <td>Hyundai Grand i10 Magna 1.2 Kappa VTVT</td>\n      <td>Hyundai</td>\n      <td>2014</td>\n      <td>3,25,000</td>\n      <td>28,000 kms</td>\n      <td>Petrol</td>\n    </tr>\n    <tr>\n      <th>4</th>\n      <td>Ford EcoSport Titanium 1.5L TDCi</td>\n      <td>Ford</td>\n      <td>2014</td>\n      <td>5,75,000</td>\n      <td>36,000 kms</td>\n      <td>Diesel</td>\n    </tr>\n    <tr>\n      <th>...</th>\n      <td>...</td>\n      <td>...</td>\n      <td>...</td>\n      <td>...</td>\n      <td>...</td>\n      <td>...</td>\n    </tr>\n    <tr>\n      <th>887</th>\n      <td>Ta</td>\n      <td>Tara</td>\n      <td>zest</td>\n      <td>3,10,000</td>\n      <td>NaN</td>\n      <td>NaN</td>\n    </tr>\n    <tr>\n      <th>888</th>\n      <td>Tata Zest XM Diesel</td>\n      <td>Tata</td>\n      <td>2018</td>\n      <td>2,60,000</td>\n      <td>27,000 kms</td>\n      <td>Diesel</td>\n    </tr>\n    <tr>\n      <th>889</th>\n      <td>Mahindra Quanto C8</td>\n      <td>Mahindra</td>\n      <td>2013</td>\n      <td>3,90,000</td>\n      <td>40,000 kms</td>\n      <td>Diesel</td>\n    </tr>\n    <tr>\n      <th>890</th>\n      <td>Honda Amaze 1.2 E i VTEC</td>\n      <td>Honda</td>\n      <td>2014</td>\n      <td>1,80,000</td>\n      <td>Petrol</td>\n      <td>NaN</td>\n    </tr>\n    <tr>\n      <th>891</th>\n      <td>Chevrolet Sail 1.2 LT ABS</td>\n      <td>Chevrolet</td>\n      <td>2014</td>\n      <td>1,60,000</td>\n      <td>Petrol</td>\n      <td>NaN</td>\n    </tr>\n  </tbody>\n</table>\n<p>892 rows × 6 columns</p>\n</div>"
     },
     "execution_count": 15,
     "metadata": {},
     "output_type": "execute_result"
    }
   ],
   "source": [
    "dataset"
   ],
   "metadata": {
    "collapsed": false,
    "pycharm": {
     "name": "#%%\n"
    }
   }
  },
  {
   "cell_type": "code",
   "execution_count": 5,
   "outputs": [
    {
     "data": {
      "text/plain": "(892, 6)"
     },
     "execution_count": 5,
     "metadata": {},
     "output_type": "execute_result"
    }
   ],
   "source": [
    "dataset.shape"
   ],
   "metadata": {
    "collapsed": false,
    "pycharm": {
     "name": "#%%\n"
    }
   }
  },
  {
   "cell_type": "code",
   "execution_count": 7,
   "outputs": [
    {
     "name": "stdout",
     "output_type": "stream",
     "text": [
      "<class 'pandas.core.frame.DataFrame'>\n",
      "RangeIndex: 892 entries, 0 to 891\n",
      "Data columns (total 6 columns):\n",
      " #   Column      Non-Null Count  Dtype \n",
      "---  ------      --------------  ----- \n",
      " 0   name        892 non-null    object\n",
      " 1   company     892 non-null    object\n",
      " 2   year        892 non-null    object\n",
      " 3   Price       892 non-null    object\n",
      " 4   kms_driven  840 non-null    object\n",
      " 5   fuel_type   837 non-null    object\n",
      "dtypes: object(6)\n",
      "memory usage: 41.9+ KB\n"
     ]
    }
   ],
   "source": [
    "dataset.info()"
   ],
   "metadata": {
    "collapsed": false,
    "pycharm": {
     "name": "#%%\n"
    }
   }
  },
  {
   "cell_type": "code",
   "execution_count": 8,
   "outputs": [
    {
     "data": {
      "text/plain": "array(['Hyundai', 'Mahindra', 'Maruti', 'Ford', 'Skoda', 'Audi', 'Toyota',\n       'Renault', 'Honda', 'Datsun', 'Mitsubishi', 'Tata', 'Volkswagen',\n       'I', 'Chevrolet', 'Mini', 'BMW', 'Nissan', 'Hindustan', 'Fiat',\n       'Commercial', 'MARUTI', 'Force', 'Mercedes', 'Land', 'Yamaha',\n       'selling', 'URJENT', 'Swift', 'Used', 'Jaguar', 'Jeep', 'tata',\n       'Sale', 'very', 'Volvo', 'i', '2012', 'Well', 'all', '7', '9',\n       'scratch', 'urgent', 'sell', 'TATA', 'Any', 'Tara'], dtype=object)"
     },
     "execution_count": 8,
     "metadata": {},
     "output_type": "execute_result"
    }
   ],
   "source": [
    "dataset.company.unique()"
   ],
   "metadata": {
    "collapsed": false,
    "pycharm": {
     "name": "#%%\n"
    }
   }
  },
  {
   "cell_type": "code",
   "execution_count": 11,
   "outputs": [
    {
     "data": {
      "text/plain": "array(['2007', '2006', '2018', '2014', '2015', '2012', '2013', '2016',\n       '2010', '2017', '2008', '2011', '2019', '2009', '2005', '2000',\n       '...', '150k', 'TOUR', '2003', 'r 15', '2004', 'Zest', '/-Rs',\n       'sale', '1995', 'ara)', '2002', 'SELL', '2001', 'tion', 'odel',\n       '2 bs', 'arry', 'Eon', 'o...', 'ture', 'emi', 'car', 'able', 'no.',\n       'd...', 'SALE', 'digo', 'sell', 'd Ex', 'n...', 'e...', 'D...',\n       ', Ac', 'go .', 'k...', 'o c4', 'zire', 'cent', 'Sumo', 'cab',\n       't xe', 'EV2', 'r...', 'zest'], dtype=object)"
     },
     "execution_count": 11,
     "metadata": {},
     "output_type": "execute_result"
    }
   ],
   "source": [
    "dataset.year.unique()"
   ],
   "metadata": {
    "collapsed": false,
    "pycharm": {
     "name": "#%%\n"
    }
   }
  },
  {
   "cell_type": "code",
   "execution_count": 12,
   "outputs": [
    {
     "data": {
      "text/plain": "array(['80,000', '4,25,000', 'Ask For Price', '3,25,000', '5,75,000',\n       '1,75,000', '1,90,000', '8,30,000', '2,50,000', '1,82,000',\n       '3,15,000', '4,15,000', '3,20,000', '10,00,000', '5,00,000',\n       '3,50,000', '1,60,000', '3,10,000', '75,000', '1,00,000',\n       '2,90,000', '95,000', '1,80,000', '3,85,000', '1,05,000',\n       '6,50,000', '6,89,999', '4,48,000', '5,49,000', '5,01,000',\n       '4,89,999', '2,80,000', '3,49,999', '2,84,999', '3,45,000',\n       '4,99,999', '2,35,000', '2,49,999', '14,75,000', '3,95,000',\n       '2,20,000', '1,70,000', '85,000', '2,00,000', '5,70,000',\n       '1,10,000', '4,48,999', '18,91,111', '1,59,500', '3,44,999',\n       '4,49,999', '8,65,000', '6,99,000', '3,75,000', '2,24,999',\n       '12,00,000', '1,95,000', '3,51,000', '2,40,000', '90,000',\n       '1,55,000', '6,00,000', '1,89,500', '2,10,000', '3,90,000',\n       '1,35,000', '16,00,000', '7,01,000', '2,65,000', '5,25,000',\n       '3,72,000', '6,35,000', '5,50,000', '4,85,000', '3,29,500',\n       '2,51,111', '5,69,999', '69,999', '2,99,999', '3,99,999',\n       '4,50,000', '2,70,000', '1,58,400', '1,79,000', '1,25,000',\n       '2,99,000', '1,50,000', '2,75,000', '2,85,000', '3,40,000',\n       '70,000', '2,89,999', '8,49,999', '7,49,999', '2,74,999',\n       '9,84,999', '5,99,999', '2,44,999', '4,74,999', '2,45,000',\n       '1,69,500', '3,70,000', '1,68,000', '1,45,000', '98,500',\n       '2,09,000', '1,85,000', '9,00,000', '6,99,999', '1,99,999',\n       '5,44,999', '1,99,000', '5,40,000', '49,000', '7,00,000', '55,000',\n       '8,95,000', '3,55,000', '5,65,000', '3,65,000', '40,000',\n       '4,00,000', '3,30,000', '5,80,000', '3,79,000', '2,19,000',\n       '5,19,000', '7,30,000', '20,00,000', '21,00,000', '14,00,000',\n       '3,11,000', '8,55,000', '5,35,000', '1,78,000', '3,00,000',\n       '2,55,000', '5,49,999', '3,80,000', '57,000', '4,10,000',\n       '2,25,000', '1,20,000', '59,000', '5,99,000', '6,75,000', '72,500',\n       '6,10,000', '2,30,000', '5,20,000', '5,24,999', '4,24,999',\n       '6,44,999', '5,84,999', '7,99,999', '4,44,999', '6,49,999',\n       '9,44,999', '5,74,999', '3,74,999', '1,30,000', '4,01,000',\n       '13,50,000', '1,74,999', '2,39,999', '99,999', '3,24,999',\n       '10,74,999', '11,30,000', '1,49,000', '7,70,000', '30,000',\n       '3,35,000', '3,99,000', '65,000', '1,69,999', '1,65,000',\n       '5,60,000', '9,50,000', '7,15,000', '45,000', '9,40,000',\n       '1,55,555', '15,00,000', '4,95,000', '8,00,000', '12,99,000',\n       '5,30,000', '14,99,000', '32,000', '4,05,000', '7,60,000',\n       '7,50,000', '4,19,000', '1,40,000', '15,40,000', '1,23,000',\n       '4,98,000', '4,80,000', '4,88,000', '15,25,000', '5,48,900',\n       '7,25,000', '99,000', '52,000', '28,00,000', '4,99,000',\n       '3,81,000', '2,78,000', '6,90,000', '2,60,000', '90,001',\n       '1,15,000', '15,99,000', '1,59,000', '51,999', '2,15,000',\n       '35,000', '11,50,000', '2,69,000', '60,000', '4,30,000',\n       '85,00,003', '4,01,919', '4,90,000', '4,24,000', '2,05,000',\n       '5,49,900', '3,71,500', '4,35,000', '1,89,700', '3,89,700',\n       '3,60,000', '2,95,000', '1,14,990', '10,65,000', '4,70,000',\n       '48,000', '1,88,000', '4,65,000', '1,79,999', '21,90,000',\n       '23,90,000', '10,75,000', '4,75,000', '10,25,000', '6,15,000',\n       '19,00,000', '14,90,000', '15,10,000', '18,50,000', '7,90,000',\n       '17,25,000', '12,25,000', '68,000', '9,70,000', '31,00,000',\n       '8,99,000', '88,000', '53,000', '5,68,500', '71,000', '5,90,000',\n       '7,95,000', '42,000', '1,89,000', '1,62,000', '35,999',\n       '29,00,000', '39,999', '50,500', '5,10,000', '8,60,000',\n       '5,00,001'], dtype=object)"
     },
     "execution_count": 12,
     "metadata": {},
     "output_type": "execute_result"
    }
   ],
   "source": [
    "dataset.Price.unique()"
   ],
   "metadata": {
    "collapsed": false,
    "pycharm": {
     "name": "#%%\n"
    }
   }
  },
  {
   "cell_type": "code",
   "execution_count": 13,
   "outputs": [
    {
     "data": {
      "text/plain": "array(['45,000 kms', '40 kms', '22,000 kms', '28,000 kms', '36,000 kms',\n       '59,000 kms', '41,000 kms', '25,000 kms', '24,530 kms',\n       '60,000 kms', '30,000 kms', '32,000 kms', '48,660 kms',\n       '4,000 kms', '16,934 kms', '43,000 kms', '35,550 kms',\n       '39,522 kms', '39,000 kms', '55,000 kms', '72,000 kms',\n       '15,975 kms', '70,000 kms', '23,452 kms', '35,522 kms',\n       '48,508 kms', '15,487 kms', '82,000 kms', '20,000 kms',\n       '68,000 kms', '38,000 kms', '27,000 kms', '33,000 kms',\n       '46,000 kms', '16,000 kms', '47,000 kms', '35,000 kms',\n       '30,874 kms', '15,000 kms', '29,685 kms', '1,30,000 kms',\n       '19,000 kms', nan, '54,000 kms', '13,000 kms', '38,200 kms',\n       '50,000 kms', '13,500 kms', '3,600 kms', '45,863 kms',\n       '60,500 kms', '12,500 kms', '18,000 kms', '13,349 kms',\n       '29,000 kms', '44,000 kms', '42,000 kms', '14,000 kms',\n       '49,000 kms', '36,200 kms', '51,000 kms', '1,04,000 kms',\n       '33,333 kms', '33,600 kms', '5,600 kms', '7,500 kms', '26,000 kms',\n       '24,330 kms', '65,480 kms', '28,028 kms', '2,00,000 kms',\n       '99,000 kms', '2,800 kms', '21,000 kms', '11,000 kms',\n       '66,000 kms', '3,000 kms', '7,000 kms', '38,500 kms', '37,200 kms',\n       '43,200 kms', '24,800 kms', '45,872 kms', '40,000 kms',\n       '11,400 kms', '97,200 kms', '52,000 kms', '31,000 kms',\n       '1,75,430 kms', '37,000 kms', '65,000 kms', '3,350 kms',\n       '75,000 kms', '62,000 kms', '73,000 kms', '2,200 kms',\n       '54,870 kms', '34,580 kms', '97,000 kms', '60 kms', '80,200 kms',\n       '3,200 kms', '0,000 kms', '5,000 kms', '588 kms', '71,200 kms',\n       '1,75,400 kms', '9,300 kms', '56,758 kms', '10,000 kms',\n       '56,450 kms', '56,000 kms', '32,700 kms', '9,000 kms', '73 kms',\n       '1,60,000 kms', '84,000 kms', '58,559 kms', '57,000 kms',\n       '1,70,000 kms', '80,000 kms', '6,821 kms', '23,000 kms',\n       '34,000 kms', '1,800 kms', '4,00,000 kms', '48,000 kms',\n       '90,000 kms', '12,000 kms', '69,900 kms', '1,66,000 kms',\n       '122 kms', '0 kms', '24,000 kms', '36,469 kms', '7,800 kms',\n       '24,695 kms', '15,141 kms', '59,910 kms', '1,00,000 kms',\n       '4,500 kms', '1,29,000 kms', '300 kms', '1,31,000 kms',\n       '1,11,111 kms', '59,466 kms', '25,500 kms', '44,005 kms',\n       '2,110 kms', '43,222 kms', '1,00,200 kms', '65 kms',\n       '1,40,000 kms', '1,03,553 kms', '58,000 kms', '1,20,000 kms',\n       '49,800 kms', '100 kms', '81,876 kms', '6,020 kms', '55,700 kms',\n       '18,500 kms', '1,80,000 kms', '53,000 kms', '35,500 kms',\n       '22,134 kms', '1,000 kms', '8,500 kms', '87,000 kms', '6,000 kms',\n       '15,574 kms', '8,000 kms', '55,800 kms', '56,400 kms',\n       '72,160 kms', '11,500 kms', '1,33,000 kms', '2,000 kms',\n       '88,000 kms', '65,422 kms', '1,17,000 kms', '1,50,000 kms',\n       '10,750 kms', '6,800 kms', '5 kms', '9,800 kms', '57,923 kms',\n       '30,201 kms', '6,200 kms', '37,518 kms', '24,652 kms', '383 kms',\n       '95,000 kms', '3,528 kms', '52,500 kms', '47,900 kms',\n       '52,800 kms', '1,95,000 kms', '48,008 kms', '48,247 kms',\n       '9,400 kms', '64,000 kms', '2,137 kms', '10,544 kms', '49,500 kms',\n       '1,47,000 kms', '90,001 kms', '48,006 kms', '74,000 kms',\n       '85,000 kms', '29,500 kms', '39,700 kms', '67,000 kms',\n       '19,336 kms', '60,105 kms', '45,933 kms', '1,02,563 kms',\n       '28,600 kms', '41,800 kms', '1,16,000 kms', '42,590 kms',\n       '7,400 kms', '54,500 kms', '76,000 kms', '00 kms', '11,523 kms',\n       '38,600 kms', '95,500 kms', '37,458 kms', '85,960 kms',\n       '12,516 kms', '30,600 kms', '2,550 kms', '62,500 kms',\n       '69,000 kms', '28,400 kms', '68,485 kms', '3,500 kms',\n       '85,455 kms', '63,000 kms', '1,600 kms', '77,000 kms',\n       '26,500 kms', '2,875 kms', '13,900 kms', '1,500 kms', '2,450 kms',\n       '1,625 kms', '33,400 kms', '60,123 kms', '38,900 kms',\n       '1,37,495 kms', '91,200 kms', '1,46,000 kms', '1,00,800 kms',\n       '2,100 kms', '2,500 kms', '1,32,000 kms', 'Petrol'], dtype=object)"
     },
     "execution_count": 13,
     "metadata": {},
     "output_type": "execute_result"
    }
   ],
   "source": [
    "dataset.kms_driven.unique()"
   ],
   "metadata": {
    "collapsed": false,
    "pycharm": {
     "name": "#%%\n"
    }
   }
  },
  {
   "cell_type": "code",
   "execution_count": 14,
   "outputs": [
    {
     "data": {
      "text/plain": "array(['Petrol', 'Diesel', nan, 'LPG'], dtype=object)"
     },
     "execution_count": 14,
     "metadata": {},
     "output_type": "execute_result"
    }
   ],
   "source": [
    "dataset.fuel_type.unique()"
   ],
   "metadata": {
    "collapsed": false,
    "pycharm": {
     "name": "#%%\n"
    }
   }
  },
  {
   "cell_type": "code",
   "execution_count": null,
   "outputs": [],
   "source": [],
   "metadata": {
    "collapsed": false,
    "pycharm": {
     "name": "#%%\n"
    }
   }
  },
  {
   "cell_type": "code",
   "execution_count": null,
   "outputs": [],
   "source": [],
   "metadata": {
    "collapsed": false,
    "pycharm": {
     "name": "#%%\n"
    }
   }
  },
  {
   "cell_type": "markdown",
   "source": [
    "## Quality Analysis\n",
    "\n",
    "- Change year values from object to int, and remove any non integer values\n",
    "- Price Column: Remove comma, change from object to int format, remove any non integer values (Ask for Price),\n",
    "- Kms-driven Column: Remove comma, remove kms at the end, remove nan, remove non integer vales, change from object to int format\n",
    "- fluetype Column: remove nan\n",
    "- Keep first 3 values of name column"
   ],
   "metadata": {
    "collapsed": false,
    "pycharm": {
     "name": "#%% md\n"
    }
   }
  },
  {
   "cell_type": "markdown",
   "source": [
    "## Data Cleaning"
   ],
   "metadata": {
    "collapsed": false,
    "pycharm": {
     "name": "#%% md\n"
    }
   }
  },
  {
   "cell_type": "code",
   "execution_count": 20,
   "outputs": [],
   "source": [
    "dataset = dataset[dataset.year.str.isnumeric()]"
   ],
   "metadata": {
    "collapsed": false,
    "pycharm": {
     "name": "#%%\n"
    }
   }
  },
  {
   "cell_type": "code",
   "execution_count": 22,
   "outputs": [
    {
     "name": "stderr",
     "output_type": "stream",
     "text": [
      "C:\\Users\\UMEGS\\AppData\\Local\\Temp\\ipykernel_19704\\861330847.py:1: SettingWithCopyWarning: \n",
      "A value is trying to be set on a copy of a slice from a DataFrame.\n",
      "Try using .loc[row_indexer,col_indexer] = value instead\n",
      "\n",
      "See the caveats in the documentation: https://pandas.pydata.org/pandas-docs/stable/user_guide/indexing.html#returning-a-view-versus-a-copy\n",
      "  dataset.year = dataset.year.astype(int)\n"
     ]
    }
   ],
   "source": [
    "dataset.year = dataset.year.astype(int)"
   ],
   "metadata": {
    "collapsed": false,
    "pycharm": {
     "name": "#%%\n"
    }
   }
  },
  {
   "cell_type": "code",
   "execution_count": 31,
   "outputs": [],
   "source": [
    "dataset = dataset[dataset.Price != \"Ask For Price\"]"
   ],
   "metadata": {
    "collapsed": false,
    "pycharm": {
     "name": "#%%\n"
    }
   }
  },
  {
   "cell_type": "code",
   "execution_count": 32,
   "outputs": [],
   "source": [
    "dataset.Price = dataset.Price.str.replace(\",\",\"\")"
   ],
   "metadata": {
    "collapsed": false,
    "pycharm": {
     "name": "#%%\n"
    }
   }
  },
  {
   "cell_type": "code",
   "execution_count": 33,
   "outputs": [],
   "source": [
    "dataset.Price = dataset.Price.astype(int)"
   ],
   "metadata": {
    "collapsed": false,
    "pycharm": {
     "name": "#%%\n"
    }
   }
  },
  {
   "cell_type": "code",
   "execution_count": 37,
   "outputs": [],
   "source": [
    "dataset.kms_driven.dropna(inplace=True)"
   ],
   "metadata": {
    "collapsed": false,
    "pycharm": {
     "name": "#%%\n"
    }
   }
  },
  {
   "cell_type": "code",
   "execution_count": 38,
   "outputs": [],
   "source": [
    "dataset.kms_driven = dataset.kms_driven.str.replace(\",\",\"\")\n",
    "dataset.kms_driven = dataset.kms_driven.str.replace(\" kms\",\"\")"
   ],
   "metadata": {
    "collapsed": false,
    "pycharm": {
     "name": "#%%\n"
    }
   }
  },
  {
   "cell_type": "code",
   "execution_count": 47,
   "outputs": [],
   "source": [
    "dataset = dataset[dataset.kms_driven.str.isnumeric()]\n",
    "dataset.kms_driven = dataset.kms_driven.astype(int)"
   ],
   "metadata": {
    "collapsed": false,
    "pycharm": {
     "name": "#%%\n"
    }
   }
  },
  {
   "cell_type": "code",
   "execution_count": 60,
   "outputs": [],
   "source": [
    "dataset = dataset[~dataset.fuel_type.isna()]"
   ],
   "metadata": {
    "collapsed": false,
    "pycharm": {
     "name": "#%%\n"
    }
   }
  },
  {
   "cell_type": "code",
   "execution_count": 63,
   "outputs": [
    {
     "name": "stdout",
     "output_type": "stream",
     "text": [
      "<class 'pandas.core.frame.DataFrame'>\n",
      "Int64Index: 816 entries, 0 to 889\n",
      "Data columns (total 6 columns):\n",
      " #   Column      Non-Null Count  Dtype \n",
      "---  ------      --------------  ----- \n",
      " 0   name        816 non-null    object\n",
      " 1   company     816 non-null    object\n",
      " 2   year        816 non-null    int32 \n",
      " 3   Price       816 non-null    int32 \n",
      " 4   kms_driven  816 non-null    int32 \n",
      " 5   fuel_type   816 non-null    object\n",
      "dtypes: int32(3), object(3)\n",
      "memory usage: 35.1+ KB\n"
     ]
    }
   ],
   "source": [
    "dataset.info()"
   ],
   "metadata": {
    "collapsed": false,
    "pycharm": {
     "name": "#%%\n"
    }
   }
  },
  {
   "cell_type": "code",
   "execution_count": 69,
   "outputs": [],
   "source": [
    "dataset.name = dataset.name.str.split(\" \").str.slice(0,3).str.join(' ')"
   ],
   "metadata": {
    "collapsed": false,
    "pycharm": {
     "name": "#%%\n"
    }
   }
  },
  {
   "cell_type": "code",
   "execution_count": 70,
   "outputs": [
    {
     "data": {
      "text/plain": "                       name   company  year   Price  kms_driven fuel_type\n0       Hyundai Santro Xing   Hyundai  2007   80000       45000    Petrol\n1       Mahindra Jeep CL550  Mahindra  2006  425000          40    Diesel\n3         Hyundai Grand i10   Hyundai  2014  325000       28000    Petrol\n4    Ford EcoSport Titanium      Ford  2014  575000       36000    Diesel\n6                 Ford Figo      Ford  2012  175000       41000    Diesel\n..                      ...       ...   ...     ...         ...       ...\n883      Maruti Suzuki Ritz    Maruti  2011  270000       50000    Petrol\n885          Tata Indica V2      Tata  2009  110000       30000    Diesel\n886    Toyota Corolla Altis    Toyota  2009  300000      132000    Petrol\n888            Tata Zest XM      Tata  2018  260000       27000    Diesel\n889      Mahindra Quanto C8  Mahindra  2013  390000       40000    Diesel\n\n[816 rows x 6 columns]",
      "text/html": "<div>\n<style scoped>\n    .dataframe tbody tr th:only-of-type {\n        vertical-align: middle;\n    }\n\n    .dataframe tbody tr th {\n        vertical-align: top;\n    }\n\n    .dataframe thead th {\n        text-align: right;\n    }\n</style>\n<table border=\"1\" class=\"dataframe\">\n  <thead>\n    <tr style=\"text-align: right;\">\n      <th></th>\n      <th>name</th>\n      <th>company</th>\n      <th>year</th>\n      <th>Price</th>\n      <th>kms_driven</th>\n      <th>fuel_type</th>\n    </tr>\n  </thead>\n  <tbody>\n    <tr>\n      <th>0</th>\n      <td>Hyundai Santro Xing</td>\n      <td>Hyundai</td>\n      <td>2007</td>\n      <td>80000</td>\n      <td>45000</td>\n      <td>Petrol</td>\n    </tr>\n    <tr>\n      <th>1</th>\n      <td>Mahindra Jeep CL550</td>\n      <td>Mahindra</td>\n      <td>2006</td>\n      <td>425000</td>\n      <td>40</td>\n      <td>Diesel</td>\n    </tr>\n    <tr>\n      <th>3</th>\n      <td>Hyundai Grand i10</td>\n      <td>Hyundai</td>\n      <td>2014</td>\n      <td>325000</td>\n      <td>28000</td>\n      <td>Petrol</td>\n    </tr>\n    <tr>\n      <th>4</th>\n      <td>Ford EcoSport Titanium</td>\n      <td>Ford</td>\n      <td>2014</td>\n      <td>575000</td>\n      <td>36000</td>\n      <td>Diesel</td>\n    </tr>\n    <tr>\n      <th>6</th>\n      <td>Ford Figo</td>\n      <td>Ford</td>\n      <td>2012</td>\n      <td>175000</td>\n      <td>41000</td>\n      <td>Diesel</td>\n    </tr>\n    <tr>\n      <th>...</th>\n      <td>...</td>\n      <td>...</td>\n      <td>...</td>\n      <td>...</td>\n      <td>...</td>\n      <td>...</td>\n    </tr>\n    <tr>\n      <th>883</th>\n      <td>Maruti Suzuki Ritz</td>\n      <td>Maruti</td>\n      <td>2011</td>\n      <td>270000</td>\n      <td>50000</td>\n      <td>Petrol</td>\n    </tr>\n    <tr>\n      <th>885</th>\n      <td>Tata Indica V2</td>\n      <td>Tata</td>\n      <td>2009</td>\n      <td>110000</td>\n      <td>30000</td>\n      <td>Diesel</td>\n    </tr>\n    <tr>\n      <th>886</th>\n      <td>Toyota Corolla Altis</td>\n      <td>Toyota</td>\n      <td>2009</td>\n      <td>300000</td>\n      <td>132000</td>\n      <td>Petrol</td>\n    </tr>\n    <tr>\n      <th>888</th>\n      <td>Tata Zest XM</td>\n      <td>Tata</td>\n      <td>2018</td>\n      <td>260000</td>\n      <td>27000</td>\n      <td>Diesel</td>\n    </tr>\n    <tr>\n      <th>889</th>\n      <td>Mahindra Quanto C8</td>\n      <td>Mahindra</td>\n      <td>2013</td>\n      <td>390000</td>\n      <td>40000</td>\n      <td>Diesel</td>\n    </tr>\n  </tbody>\n</table>\n<p>816 rows × 6 columns</p>\n</div>"
     },
     "execution_count": 70,
     "metadata": {},
     "output_type": "execute_result"
    }
   ],
   "source": [
    "dataset"
   ],
   "metadata": {
    "collapsed": false,
    "pycharm": {
     "name": "#%%\n"
    }
   }
  },
  {
   "cell_type": "code",
   "execution_count": 71,
   "outputs": [],
   "source": [
    "dataset.reset_index(drop=True,inplace=True)"
   ],
   "metadata": {
    "collapsed": false,
    "pycharm": {
     "name": "#%%\n"
    }
   }
  },
  {
   "cell_type": "code",
   "execution_count": 72,
   "outputs": [
    {
     "data": {
      "text/plain": "                       name   company  year   Price  kms_driven fuel_type\n0       Hyundai Santro Xing   Hyundai  2007   80000       45000    Petrol\n1       Mahindra Jeep CL550  Mahindra  2006  425000          40    Diesel\n2         Hyundai Grand i10   Hyundai  2014  325000       28000    Petrol\n3    Ford EcoSport Titanium      Ford  2014  575000       36000    Diesel\n4                 Ford Figo      Ford  2012  175000       41000    Diesel\n..                      ...       ...   ...     ...         ...       ...\n811      Maruti Suzuki Ritz    Maruti  2011  270000       50000    Petrol\n812          Tata Indica V2      Tata  2009  110000       30000    Diesel\n813    Toyota Corolla Altis    Toyota  2009  300000      132000    Petrol\n814            Tata Zest XM      Tata  2018  260000       27000    Diesel\n815      Mahindra Quanto C8  Mahindra  2013  390000       40000    Diesel\n\n[816 rows x 6 columns]",
      "text/html": "<div>\n<style scoped>\n    .dataframe tbody tr th:only-of-type {\n        vertical-align: middle;\n    }\n\n    .dataframe tbody tr th {\n        vertical-align: top;\n    }\n\n    .dataframe thead th {\n        text-align: right;\n    }\n</style>\n<table border=\"1\" class=\"dataframe\">\n  <thead>\n    <tr style=\"text-align: right;\">\n      <th></th>\n      <th>name</th>\n      <th>company</th>\n      <th>year</th>\n      <th>Price</th>\n      <th>kms_driven</th>\n      <th>fuel_type</th>\n    </tr>\n  </thead>\n  <tbody>\n    <tr>\n      <th>0</th>\n      <td>Hyundai Santro Xing</td>\n      <td>Hyundai</td>\n      <td>2007</td>\n      <td>80000</td>\n      <td>45000</td>\n      <td>Petrol</td>\n    </tr>\n    <tr>\n      <th>1</th>\n      <td>Mahindra Jeep CL550</td>\n      <td>Mahindra</td>\n      <td>2006</td>\n      <td>425000</td>\n      <td>40</td>\n      <td>Diesel</td>\n    </tr>\n    <tr>\n      <th>2</th>\n      <td>Hyundai Grand i10</td>\n      <td>Hyundai</td>\n      <td>2014</td>\n      <td>325000</td>\n      <td>28000</td>\n      <td>Petrol</td>\n    </tr>\n    <tr>\n      <th>3</th>\n      <td>Ford EcoSport Titanium</td>\n      <td>Ford</td>\n      <td>2014</td>\n      <td>575000</td>\n      <td>36000</td>\n      <td>Diesel</td>\n    </tr>\n    <tr>\n      <th>4</th>\n      <td>Ford Figo</td>\n      <td>Ford</td>\n      <td>2012</td>\n      <td>175000</td>\n      <td>41000</td>\n      <td>Diesel</td>\n    </tr>\n    <tr>\n      <th>...</th>\n      <td>...</td>\n      <td>...</td>\n      <td>...</td>\n      <td>...</td>\n      <td>...</td>\n      <td>...</td>\n    </tr>\n    <tr>\n      <th>811</th>\n      <td>Maruti Suzuki Ritz</td>\n      <td>Maruti</td>\n      <td>2011</td>\n      <td>270000</td>\n      <td>50000</td>\n      <td>Petrol</td>\n    </tr>\n    <tr>\n      <th>812</th>\n      <td>Tata Indica V2</td>\n      <td>Tata</td>\n      <td>2009</td>\n      <td>110000</td>\n      <td>30000</td>\n      <td>Diesel</td>\n    </tr>\n    <tr>\n      <th>813</th>\n      <td>Toyota Corolla Altis</td>\n      <td>Toyota</td>\n      <td>2009</td>\n      <td>300000</td>\n      <td>132000</td>\n      <td>Petrol</td>\n    </tr>\n    <tr>\n      <th>814</th>\n      <td>Tata Zest XM</td>\n      <td>Tata</td>\n      <td>2018</td>\n      <td>260000</td>\n      <td>27000</td>\n      <td>Diesel</td>\n    </tr>\n    <tr>\n      <th>815</th>\n      <td>Mahindra Quanto C8</td>\n      <td>Mahindra</td>\n      <td>2013</td>\n      <td>390000</td>\n      <td>40000</td>\n      <td>Diesel</td>\n    </tr>\n  </tbody>\n</table>\n<p>816 rows × 6 columns</p>\n</div>"
     },
     "execution_count": 72,
     "metadata": {},
     "output_type": "execute_result"
    }
   ],
   "source": [
    "dataset"
   ],
   "metadata": {
    "collapsed": false,
    "pycharm": {
     "name": "#%%\n"
    }
   }
  },
  {
   "cell_type": "markdown",
   "source": [
    "## Check for outliers"
   ],
   "metadata": {
    "collapsed": false,
    "pycharm": {
     "name": "#%% md\n"
    }
   }
  },
  {
   "cell_type": "code",
   "execution_count": 73,
   "outputs": [
    {
     "data": {
      "text/plain": "              year         Price     kms_driven\ncount   816.000000  8.160000e+02     816.000000\nmean   2012.444853  4.117176e+05   46275.531863\nstd       4.002992  4.751844e+05   34297.428044\nmin    1995.000000  3.000000e+04       0.000000\n25%    2010.000000  1.750000e+05   27000.000000\n50%    2013.000000  2.999990e+05   41000.000000\n75%    2015.000000  4.912500e+05   56818.500000\nmax    2019.000000  8.500003e+06  400000.000000",
      "text/html": "<div>\n<style scoped>\n    .dataframe tbody tr th:only-of-type {\n        vertical-align: middle;\n    }\n\n    .dataframe tbody tr th {\n        vertical-align: top;\n    }\n\n    .dataframe thead th {\n        text-align: right;\n    }\n</style>\n<table border=\"1\" class=\"dataframe\">\n  <thead>\n    <tr style=\"text-align: right;\">\n      <th></th>\n      <th>year</th>\n      <th>Price</th>\n      <th>kms_driven</th>\n    </tr>\n  </thead>\n  <tbody>\n    <tr>\n      <th>count</th>\n      <td>816.000000</td>\n      <td>8.160000e+02</td>\n      <td>816.000000</td>\n    </tr>\n    <tr>\n      <th>mean</th>\n      <td>2012.444853</td>\n      <td>4.117176e+05</td>\n      <td>46275.531863</td>\n    </tr>\n    <tr>\n      <th>std</th>\n      <td>4.002992</td>\n      <td>4.751844e+05</td>\n      <td>34297.428044</td>\n    </tr>\n    <tr>\n      <th>min</th>\n      <td>1995.000000</td>\n      <td>3.000000e+04</td>\n      <td>0.000000</td>\n    </tr>\n    <tr>\n      <th>25%</th>\n      <td>2010.000000</td>\n      <td>1.750000e+05</td>\n      <td>27000.000000</td>\n    </tr>\n    <tr>\n      <th>50%</th>\n      <td>2013.000000</td>\n      <td>2.999990e+05</td>\n      <td>41000.000000</td>\n    </tr>\n    <tr>\n      <th>75%</th>\n      <td>2015.000000</td>\n      <td>4.912500e+05</td>\n      <td>56818.500000</td>\n    </tr>\n    <tr>\n      <th>max</th>\n      <td>2019.000000</td>\n      <td>8.500003e+06</td>\n      <td>400000.000000</td>\n    </tr>\n  </tbody>\n</table>\n</div>"
     },
     "execution_count": 73,
     "metadata": {},
     "output_type": "execute_result"
    }
   ],
   "source": [
    "dataset.describe()"
   ],
   "metadata": {
    "collapsed": false,
    "pycharm": {
     "name": "#%%\n"
    }
   }
  },
  {
   "cell_type": "code",
   "execution_count": 80,
   "outputs": [],
   "source": [
    "dataset = dataset[dataset.Price < 6e6].reset_index(drop=True)"
   ],
   "metadata": {
    "collapsed": false,
    "pycharm": {
     "name": "#%%\n"
    }
   }
  },
  {
   "cell_type": "code",
   "execution_count": 81,
   "outputs": [],
   "source": [
    "clean_data = dataset.copy()"
   ],
   "metadata": {
    "collapsed": false,
    "pycharm": {
     "name": "#%%\n"
    }
   }
  },
  {
   "cell_type": "code",
   "execution_count": 82,
   "outputs": [],
   "source": [
    "clean_data.to_csv('dataset/clean_data.csv')"
   ],
   "metadata": {
    "collapsed": false,
    "pycharm": {
     "name": "#%%\n"
    }
   }
  },
  {
   "cell_type": "code",
   "execution_count": null,
   "outputs": [],
   "source": [],
   "metadata": {
    "collapsed": false,
    "pycharm": {
     "name": "#%%\n"
    }
   }
  },
  {
   "cell_type": "markdown",
   "source": [
    "## Data Visualization"
   ],
   "metadata": {
    "collapsed": false,
    "pycharm": {
     "name": "#%% md\n"
    }
   }
  },
  {
   "cell_type": "code",
   "execution_count": 83,
   "outputs": [],
   "source": [
    "import matplotlib.pyplot as plt"
   ],
   "metadata": {
    "collapsed": false,
    "pycharm": {
     "name": "#%%\n"
    }
   }
  },
  {
   "cell_type": "code",
   "execution_count": 85,
   "outputs": [
    {
     "data": {
      "text/plain": "<Figure size 720x432 with 1 Axes>",
      "image/png": "[encoded data removed]"
     },
     "metadata": {
      "needs_background": "light"
     },
     "output_type": "display_data"
    }
   ],
   "source": [
    "plt.figure(figsize=(10,6))\n",
    "plt.scatter(clean_data.kms_driven,clean_data.Price)\n",
    "plt.xlabel('Kms Driven')\n",
    "plt.ylabel('Price')\n",
    "plt.title('Kms Driven vs Price')\n",
    "plt.show()\n"
   ],
   "metadata": {
    "collapsed": false,
    "pycharm": {
     "name": "#%%\n"
    }
   }
  },
  {
   "cell_type": "code",
   "execution_count": 86,
   "outputs": [
    {
     "data": {
      "text/plain": "<Figure size 720x432 with 1 Axes>",
      "image/png": "[encoded data removed]"
     },
     "metadata": {
      "needs_background": "light"
     },
     "output_type": "display_data"
    }
   ],
   "source": [
    "plt.figure(figsize=(10,6))\n",
    "plt.scatter(clean_data.year,clean_data.Price)\n",
    "plt.xlabel('Year')\n",
    "plt.ylabel('Price')\n",
    "plt.title('Year vs Price')\n",
    "plt.show()"
   ],
   "metadata": {
    "collapsed": false,
    "pycharm": {
     "name": "#%%\n"
    }
   }
  },
  {
   "cell_type": "code",
   "execution_count": 90,
   "outputs": [
    {
     "data": {
      "text/plain": "<Figure size 720x432 with 1 Axes>",
      "image/png": "[encoded data removed]"
     },
     "metadata": {
      "needs_background": "light"
     },
     "output_type": "display_data"
    }
   ],
   "source": [
    "plt.figure(figsize=(10,6))\n",
    "plt.scatter(clean_data.kms_driven,clean_data.year)\n",
    "plt.xlabel('Kms Driven')\n",
    "plt.ylabel('Year')\n",
    "plt.title('Kms Driven vs Year')\n",
    "plt.show()"
   ],
   "metadata": {
    "collapsed": false,
    "pycharm": {
     "name": "#%%\n"
    }
   }
  },
  {
   "cell_type": "code",
   "execution_count": 94,
   "outputs": [
    {
     "data": {
      "text/plain": "<pandas.io.formats.style.Styler at 0x1d45cb7e850>",
      "text/html": "<style type=\"text/css\">\n#T_66f13_row0_col0, #T_66f13_row1_col1, #T_66f13_row2_col2 {\n  background-color: #b40426;\n  color: #f1f1f1;\n}\n#T_66f13_row0_col1 {\n  background-color: #cad8ef;\n  color: #000000;\n}\n#T_66f13_row0_col2, #T_66f13_row2_col0, #T_66f13_row2_col1 {\n  background-color: #3b4cc0;\n  color: #f1f1f1;\n}\n#T_66f13_row1_col0 {\n  background-color: #d5dbe5;\n  color: #000000;\n}\n#T_66f13_row1_col2 {\n  background-color: #4f69d9;\n  color: #f1f1f1;\n}\n</style>\n<table id=\"T_66f13\">\n  <thead>\n    <tr>\n      <th class=\"blank level0\" >&nbsp;</th>\n      <th id=\"T_66f13_level0_col0\" class=\"col_heading level0 col0\" >year</th>\n      <th id=\"T_66f13_level0_col1\" class=\"col_heading level0 col1\" >Price</th>\n      <th id=\"T_66f13_level0_col2\" class=\"col_heading level0 col2\" >kms_driven</th>\n    </tr>\n  </thead>\n  <tbody>\n    <tr>\n      <th id=\"T_66f13_level0_row0\" class=\"row_heading level0 row0\" >year</th>\n      <td id=\"T_66f13_row0_col0\" class=\"data row0 col0\" >1.000000</td>\n      <td id=\"T_66f13_row0_col1\" class=\"data row0 col1\" >0.347764</td>\n      <td id=\"T_66f13_row0_col2\" class=\"data row0 col2\" >-0.233699</td>\n    </tr>\n    <tr>\n      <th id=\"T_66f13_level0_row1\" class=\"row_heading level0 row1\" >Price</th>\n      <td id=\"T_66f13_row1_col0\" class=\"data row1 col0\" >0.347764</td>\n      <td id=\"T_66f13_row1_col1\" class=\"data row1 col1\" >1.000000</td>\n      <td id=\"T_66f13_row1_col2\" class=\"data row1 col2\" >-0.149621</td>\n    </tr>\n    <tr>\n      <th id=\"T_66f13_level0_row2\" class=\"row_heading level0 row2\" >kms_driven</th>\n      <td id=\"T_66f13_row2_col0\" class=\"data row2 col0\" >-0.233699</td>\n      <td id=\"T_66f13_row2_col1\" class=\"data row2 col1\" >-0.149621</td>\n      <td id=\"T_66f13_row2_col2\" class=\"data row2 col2\" >1.000000</td>\n    </tr>\n  </tbody>\n</table>\n"
     },
     "execution_count": 94,
     "metadata": {},
     "output_type": "execute_result"
    }
   ],
   "source": [
    "clean_data.corr().style.background_gradient(cmap='coolwarm')\n"
   ],
   "metadata": {
    "collapsed": false,
    "pycharm": {
     "name": "#%%\n"
    }
   }
  },
  {
   "cell_type": "code",
   "execution_count": 96,
   "outputs": [
    {
     "data": {
      "text/plain": "Price         1.000000\nyear          0.347764\nkms_driven   -0.149621\nName: Price, dtype: float64"
     },
     "execution_count": 96,
     "metadata": {},
     "output_type": "execute_result"
    }
   ],
   "source": [
    "clean_data.corr()['Price'].sort_values(ascending=False)"
   ],
   "metadata": {
    "collapsed": false,
    "pycharm": {
     "name": "#%%\n"
    }
   }
  },
  {
   "cell_type": "markdown",
   "source": [
    "## Modeling"
   ],
   "metadata": {
    "collapsed": false,
    "pycharm": {
     "name": "#%% md\n"
    }
   }
  },
  {
   "cell_type": "code",
   "execution_count": 148,
   "outputs": [],
   "source": [
    "from sklearn.linear_model import LinearRegression\n",
    "from sklearn.model_selection import train_test_split\n",
    "from sklearn.metrics import mean_squared_error\n",
    "from sklearn.metrics import r2_score\n",
    "from sklearn.preprocessing import OneHotEncoder\n",
    "from sklearn.compose import make_column_transformer\n",
    "from sklearn.pipeline import Pipeline"
   ],
   "metadata": {
    "collapsed": false,
    "pycharm": {
     "name": "#%%\n"
    }
   }
  },
  {
   "cell_type": "code",
   "execution_count": 149,
   "outputs": [],
   "source": [
    "X = clean_data.drop(['Price'],axis=1)\n",
    "y = clean_data['Price']"
   ],
   "metadata": {
    "collapsed": false,
    "pycharm": {
     "name": "#%%\n"
    }
   }
  },
  {
   "cell_type": "code",
   "execution_count": 150,
   "outputs": [],
   "source": [
    "X_train, X_test, y_train, y_test = train_test_split(X, y, test_size=0.2, random_state=42)"
   ],
   "metadata": {
    "collapsed": false,
    "pycharm": {
     "name": "#%%\n"
    }
   }
  },
  {
   "cell_type": "code",
   "execution_count": 151,
   "outputs": [
    {
     "data": {
      "text/plain": "OneHotEncoder()",
      "text/html": "<style>#sk-container-id-9 {color: black;background-color: white;}#sk-container-id-9 pre{padding: 0;}#sk-container-id-9 div.sk-toggleable {background-color: white;}#sk-container-id-9 label.sk-toggleable__label {cursor: pointer;display: block;width: 100%;margin-bottom: 0;padding: 0.3em;box-sizing: border-box;text-align: center;}#sk-container-id-9 label.sk-toggleable__label-arrow:before {content: \"▸\";float: left;margin-right: 0.25em;color: #696969;}#sk-container-id-9 label.sk-toggleable__label-arrow:hover:before {color: black;}#sk-container-id-9 div.sk-estimator:hover label.sk-toggleable__label-arrow:before {color: black;}#sk-container-id-9 div.sk-toggleable__content {max-height: 0;max-width: 0;overflow: hidden;text-align: left;background-color: #f0f8ff;}#sk-container-id-9 div.sk-toggleable__content pre {margin: 0.2em;color: black;border-radius: 0.25em;background-color: #f0f8ff;}#sk-container-id-9 input.sk-toggleable__control:checked~div.sk-toggleable__content {max-height: 200px;max-width: 100%;overflow: auto;}#sk-container-id-9 input.sk-toggleable__control:checked~label.sk-toggleable__label-arrow:before {content: \"▾\";}#sk-container-id-9 div.sk-estimator input.sk-toggleable__control:checked~label.sk-toggleable__label {background-color: #d4ebff;}#sk-container-id-9 div.sk-label input.sk-toggleable__control:checked~label.sk-toggleable__label {background-color: #d4ebff;}#sk-container-id-9 input.sk-hidden--visually {border: 0;clip: rect(1px 1px 1px 1px);clip: rect(1px, 1px, 1px, 1px);height: 1px;margin: -1px;overflow: hidden;padding: 0;position: absolute;width: 1px;}#sk-container-id-9 div.sk-estimator {font-family: monospace;background-color: #f0f8ff;border: 1px dotted black;border-radius: 0.25em;box-sizing: border-box;margin-bottom: 0.5em;}#sk-container-id-9 div.sk-estimator:hover {background-color: #d4ebff;}#sk-container-id-9 div.sk-parallel-item::after {content: \"\";width: 100%;border-bottom: 1px solid gray;flex-grow: 1;}#sk-container-id-9 div.sk-label:hover label.sk-toggleable__label {background-color: #d4ebff;}#sk-container-id-9 div.sk-serial::before {content: \"\";position: absolute;border-left: 1px solid gray;box-sizing: border-box;top: 0;bottom: 0;left: 50%;z-index: 0;}#sk-container-id-9 div.sk-serial {display: flex;flex-direction: column;align-items: center;background-color: white;padding-right: 0.2em;padding-left: 0.2em;position: relative;}#sk-container-id-9 div.sk-item {position: relative;z-index: 1;}#sk-container-id-9 div.sk-parallel {display: flex;align-items: stretch;justify-content: center;background-color: white;position: relative;}#sk-container-id-9 div.sk-item::before, #sk-container-id-9 div.sk-parallel-item::before {content: \"\";position: absolute;border-left: 1px solid gray;box-sizing: border-box;top: 0;bottom: 0;left: 50%;z-index: -1;}#sk-container-id-9 div.sk-parallel-item {display: flex;flex-direction: column;z-index: 1;position: relative;background-color: white;}#sk-container-id-9 div.sk-parallel-item:first-child::after {align-self: flex-end;width: 50%;}#sk-container-id-9 div.sk-parallel-item:last-child::after {align-self: flex-start;width: 50%;}#sk-container-id-9 div.sk-parallel-item:only-child::after {width: 0;}#sk-container-id-9 div.sk-dashed-wrapped {border: 1px dashed gray;margin: 0 0.4em 0.5em 0.4em;box-sizing: border-box;padding-bottom: 0.4em;background-color: white;}#sk-container-id-9 div.sk-label label {font-family: monospace;font-weight: bold;display: inline-block;line-height: 1.2em;}#sk-container-id-9 div.sk-label-container {text-align: center;}#sk-container-id-9 div.sk-container {/* jupyter's `normalize.less` sets `[hidden] { display: none; }` but bootstrap.min.css set `[hidden] { display: none !important; }` so we also need the `!important` here to be able to override the default hidden behavior on the sphinx rendered scikit-learn.org. See: https://github.com/scikit-learn/scikit-learn/issues/21755 */display: inline-block !important;position: relative;}#sk-container-id-9 div.sk-text-repr-fallback {display: none;}</style><div id=\"sk-container-id-9\" class=\"sk-top-container\"><div class=\"sk-text-repr-fallback\"><pre>OneHotEncoder()</pre><b>In a Jupyter environment, please rerun this cell to show the HTML representation or trust the notebook. <br />On GitHub, the HTML representation is unable to render, please try loading this page with nbviewer.org.</b></div><div class=\"sk-container\" hidden><div class=\"sk-item\"><div class=\"sk-estimator sk-toggleable\"><input class=\"sk-toggleable__control sk-hidden--visually\" id=\"sk-estimator-id-39\" type=\"checkbox\" checked><label for=\"sk-estimator-id-39\" class=\"sk-toggleable__label sk-toggleable__label-arrow\">OneHotEncoder</label><div class=\"sk-toggleable__content\"><pre>OneHotEncoder()</pre></div></div></div></div></div>"
     },
     "execution_count": 151,
     "metadata": {},
     "output_type": "execute_result"
    }
   ],
   "source": [
    "ohe = OneHotEncoder()\n",
    "ohe.fit(X[['name','company','fuel_type']])"
   ],
   "metadata": {
    "collapsed": false,
    "pycharm": {
     "name": "#%%\n"
    }
   }
  },
  {
   "cell_type": "code",
   "execution_count": 152,
   "outputs": [],
   "source": [
    "colum_transformer = make_column_transformer((OneHotEncoder(categories=ohe.categories_), ['name','company','fuel_type']), remainder='passthrough')"
   ],
   "metadata": {
    "collapsed": false,
    "pycharm": {
     "name": "#%%\n"
    }
   }
  },
  {
   "cell_type": "code",
   "execution_count": 153,
   "outputs": [],
   "source": [
    "pipe = Pipeline(steps=[('colum_transformer',colum_transformer),('linear_regression',LinearRegression())])"
   ],
   "metadata": {
    "collapsed": false,
    "pycharm": {
     "name": "#%%\n"
    }
   }
  },
  {
   "cell_type": "code",
   "execution_count": 154,
   "outputs": [
    {
     "data": {
      "text/plain": "Pipeline(steps=[('colum_transformer',\n                 ColumnTransformer(remainder='passthrough',\n                                   transformers=[('onehotencoder',\n                                                  OneHotEncoder(categories=[array(['Audi A3 Cabriolet', 'Audi A4 1.8', 'Audi A4 2.0', 'Audi A6 2.0',\n       'Audi A8', 'Audi Q3 2.0', 'Audi Q5 2.0', 'Audi Q7', 'BMW 3 Series',\n       'BMW 5 Series', 'BMW 7 Series', 'BMW X1', 'BMW X1 sDrive20d',\n       'BMW X1 xDrive20d', 'Chevrolet Beat', 'Chevrolet Beat...\n                                                                            array(['Audi', 'BMW', 'Chevrolet', 'Datsun', 'Fiat', 'Force', 'Ford',\n       'Hindustan', 'Honda', 'Hyundai', 'Jaguar', 'Jeep', 'Land',\n       'Mahindra', 'Maruti', 'Mercedes', 'Mini', 'Mitsubishi', 'Nissan',\n       'Renault', 'Skoda', 'Tata', 'Toyota', 'Volkswagen', 'Volvo'],\n      dtype=object),\n                                                                            array(['Diesel', 'LPG', 'Petrol'], dtype=object)]),\n                                                  ['name', 'company',\n                                                   'fuel_type'])])),\n                ('linear_regression', LinearRegression())])",
      "text/html": "<style>#sk-container-id-10 {color: black;background-color: white;}#sk-container-id-10 pre{padding: 0;}#sk-container-id-10 div.sk-toggleable {background-color: white;}#sk-container-id-10 label.sk-toggleable__label {cursor: pointer;display: block;width: 100%;margin-bottom: 0;padding: 0.3em;box-sizing: border-box;text-align: center;}#sk-container-id-10 label.sk-toggleable__label-arrow:before {content: \"▸\";float: left;margin-right: 0.25em;color: #696969;}#sk-container-id-10 label.sk-toggleable__label-arrow:hover:before {color: black;}#sk-container-id-10 div.sk-estimator:hover label.sk-toggleable__label-arrow:before {color: black;}#sk-container-id-10 div.sk-toggleable__content {max-height: 0;max-width: 0;overflow: hidden;text-align: left;background-color: #f0f8ff;}#sk-container-id-10 div.sk-toggleable__content pre {margin: 0.2em;color: black;border-radius: 0.25em;background-color: #f0f8ff;}#sk-container-id-10 input.sk-toggleable__control:checked~div.sk-toggleable__content {max-height: 200px;max-width: 100%;overflow: auto;}#sk-container-id-10 input.sk-toggleable__control:checked~label.sk-toggleable__label-arrow:before {content: \"▾\";}#sk-container-id-10 div.sk-estimator input.sk-toggleable__control:checked~label.sk-toggleable__label {background-color: #d4ebff;}#sk-container-id-10 div.sk-label input.sk-toggleable__control:checked~label.sk-toggleable__label {background-color: #d4ebff;}#sk-container-id-10 input.sk-hidden--visually {border: 0;clip: rect(1px 1px 1px 1px);clip: rect(1px, 1px, 1px, 1px);height: 1px;margin: -1px;overflow: hidden;padding: 0;position: absolute;width: 1px;}#sk-container-id-10 div.sk-estimator {font-family: monospace;background-color: #f0f8ff;border: 1px dotted black;border-radius: 0.25em;box-sizing: border-box;margin-bottom: 0.5em;}#sk-container-id-10 div.sk-estimator:hover {background-color: #d4ebff;}#sk-container-id-10 div.sk-parallel-item::after {content: \"\";width: 100%;border-bottom: 1px solid gray;flex-grow: 1;}#sk-container-id-10 div.sk-label:hover label.sk-toggleable__label {background-color: #d4ebff;}#sk-container-id-10 div.sk-serial::before {content: \"\";position: absolute;border-left: 1px solid gray;box-sizing: border-box;top: 0;bottom: 0;left: 50%;z-index: 0;}#sk-container-id-10 div.sk-serial {display: flex;flex-direction: column;align-items: center;background-color: white;padding-right: 0.2em;padding-left: 0.2em;position: relative;}#sk-container-id-10 div.sk-item {position: relative;z-index: 1;}#sk-container-id-10 div.sk-parallel {display: flex;align-items: stretch;justify-content: center;background-color: white;position: relative;}#sk-container-id-10 div.sk-item::before, #sk-container-id-10 div.sk-parallel-item::before {content: \"\";position: absolute;border-left: 1px solid gray;box-sizing: border-box;top: 0;bottom: 0;left: 50%;z-index: -1;}#sk-container-id-10 div.sk-parallel-item {display: flex;flex-direction: column;z-index: 1;position: relative;background-color: white;}#sk-container-id-10 div.sk-parallel-item:first-child::after {align-self: flex-end;width: 50%;}#sk-container-id-10 div.sk-parallel-item:last-child::after {align-self: flex-start;width: 50%;}#sk-container-id-10 div.sk-parallel-item:only-child::after {width: 0;}#sk-container-id-10 div.sk-dashed-wrapped {border: 1px dashed gray;margin: 0 0.4em 0.5em 0.4em;box-sizing: border-box;padding-bottom: 0.4em;background-color: white;}#sk-container-id-10 div.sk-label label {font-family: monospace;font-weight: bold;display: inline-block;line-height: 1.2em;}#sk-container-id-10 div.sk-label-container {text-align: center;}#sk-container-id-10 div.sk-container {/* jupyter's `normalize.less` sets `[hidden] { display: none; }` but bootstrap.min.css set `[hidden] { display: none !important; }` so we also need the `!important` here to be able to override the default hidden behavior on the sphinx rendered scikit-learn.org. See: https://github.com/scikit-learn/scikit-learn/issues/21755 */display: inline-block !important;position: relative;}#sk-container-id-10 div.sk-text-repr-fallback {display: none;}</style><div id=\"sk-container-id-10\" class=\"sk-top-container\"><div class=\"sk-text-repr-fallback\"><pre>Pipeline(steps=[(&#x27;colum_transformer&#x27;,\n                 ColumnTransformer(remainder=&#x27;passthrough&#x27;,\n                                   transformers=[(&#x27;onehotencoder&#x27;,\n                                                  OneHotEncoder(categories=[array([&#x27;Audi A3 Cabriolet&#x27;, &#x27;Audi A4 1.8&#x27;, &#x27;Audi A4 2.0&#x27;, &#x27;Audi A6 2.0&#x27;,\n       &#x27;Audi A8&#x27;, &#x27;Audi Q3 2.0&#x27;, &#x27;Audi Q5 2.0&#x27;, &#x27;Audi Q7&#x27;, &#x27;BMW 3 Series&#x27;,\n       &#x27;BMW 5 Series&#x27;, &#x27;BMW 7 Series&#x27;, &#x27;BMW X1&#x27;, &#x27;BMW X1 sDrive20d&#x27;,\n       &#x27;BMW X1 xDrive20d&#x27;, &#x27;Chevrolet Beat&#x27;, &#x27;Chevrolet Beat...\n                                                                            array([&#x27;Audi&#x27;, &#x27;BMW&#x27;, &#x27;Chevrolet&#x27;, &#x27;Datsun&#x27;, &#x27;Fiat&#x27;, &#x27;Force&#x27;, &#x27;Ford&#x27;,\n       &#x27;Hindustan&#x27;, &#x27;Honda&#x27;, &#x27;Hyundai&#x27;, &#x27;Jaguar&#x27;, &#x27;Jeep&#x27;, &#x27;Land&#x27;,\n       &#x27;Mahindra&#x27;, &#x27;Maruti&#x27;, &#x27;Mercedes&#x27;, &#x27;Mini&#x27;, &#x27;Mitsubishi&#x27;, &#x27;Nissan&#x27;,\n       &#x27;Renault&#x27;, &#x27;Skoda&#x27;, &#x27;Tata&#x27;, &#x27;Toyota&#x27;, &#x27;Volkswagen&#x27;, &#x27;Volvo&#x27;],\n      dtype=object),\n                                                                            array([&#x27;Diesel&#x27;, &#x27;LPG&#x27;, &#x27;Petrol&#x27;], dtype=object)]),\n                                                  [&#x27;name&#x27;, &#x27;company&#x27;,\n                                                   &#x27;fuel_type&#x27;])])),\n                (&#x27;linear_regression&#x27;, LinearRegression())])</pre><b>In a Jupyter environment, please rerun this cell to show the HTML representation or trust the notebook. <br />On GitHub, the HTML representation is unable to render, please try loading this page with nbviewer.org.</b></div><div class=\"sk-container\" hidden><div class=\"sk-item sk-dashed-wrapped\"><div class=\"sk-label-container\"><div class=\"sk-label sk-toggleable\"><input class=\"sk-toggleable__control sk-hidden--visually\" id=\"sk-estimator-id-40\" type=\"checkbox\" ><label for=\"sk-estimator-id-40\" class=\"sk-toggleable__label sk-toggleable__label-arrow\">Pipeline</label><div class=\"sk-toggleable__content\"><pre>Pipeline(steps=[(&#x27;colum_transformer&#x27;,\n                 ColumnTransformer(remainder=&#x27;passthrough&#x27;,\n                                   transformers=[(&#x27;onehotencoder&#x27;,\n                                                  OneHotEncoder(categories=[array([&#x27;Audi A3 Cabriolet&#x27;, &#x27;Audi A4 1.8&#x27;, &#x27;Audi A4 2.0&#x27;, &#x27;Audi A6 2.0&#x27;,\n       &#x27;Audi A8&#x27;, &#x27;Audi Q3 2.0&#x27;, &#x27;Audi Q5 2.0&#x27;, &#x27;Audi Q7&#x27;, &#x27;BMW 3 Series&#x27;,\n       &#x27;BMW 5 Series&#x27;, &#x27;BMW 7 Series&#x27;, &#x27;BMW X1&#x27;, &#x27;BMW X1 sDrive20d&#x27;,\n       &#x27;BMW X1 xDrive20d&#x27;, &#x27;Chevrolet Beat&#x27;, &#x27;Chevrolet Beat...\n                                                                            array([&#x27;Audi&#x27;, &#x27;BMW&#x27;, &#x27;Chevrolet&#x27;, &#x27;Datsun&#x27;, &#x27;Fiat&#x27;, &#x27;Force&#x27;, &#x27;Ford&#x27;,\n       &#x27;Hindustan&#x27;, &#x27;Honda&#x27;, &#x27;Hyundai&#x27;, &#x27;Jaguar&#x27;, &#x27;Jeep&#x27;, &#x27;Land&#x27;,\n       &#x27;Mahindra&#x27;, &#x27;Maruti&#x27;, &#x27;Mercedes&#x27;, &#x27;Mini&#x27;, &#x27;Mitsubishi&#x27;, &#x27;Nissan&#x27;,\n       &#x27;Renault&#x27;, &#x27;Skoda&#x27;, &#x27;Tata&#x27;, &#x27;Toyota&#x27;, &#x27;Volkswagen&#x27;, &#x27;Volvo&#x27;],\n      dtype=object),\n                                                                            array([&#x27;Diesel&#x27;, &#x27;LPG&#x27;, &#x27;Petrol&#x27;], dtype=object)]),\n                                                  [&#x27;name&#x27;, &#x27;company&#x27;,\n                                                   &#x27;fuel_type&#x27;])])),\n                (&#x27;linear_regression&#x27;, LinearRegression())])</pre></div></div></div><div class=\"sk-serial\"><div class=\"sk-item sk-dashed-wrapped\"><div class=\"sk-label-container\"><div class=\"sk-label sk-toggleable\"><input class=\"sk-toggleable__control sk-hidden--visually\" id=\"sk-estimator-id-41\" type=\"checkbox\" ><label for=\"sk-estimator-id-41\" class=\"sk-toggleable__label sk-toggleable__label-arrow\">colum_transformer: ColumnTransformer</label><div class=\"sk-toggleable__content\"><pre>ColumnTransformer(remainder=&#x27;passthrough&#x27;,\n                  transformers=[(&#x27;onehotencoder&#x27;,\n                                 OneHotEncoder(categories=[array([&#x27;Audi A3 Cabriolet&#x27;, &#x27;Audi A4 1.8&#x27;, &#x27;Audi A4 2.0&#x27;, &#x27;Audi A6 2.0&#x27;,\n       &#x27;Audi A8&#x27;, &#x27;Audi Q3 2.0&#x27;, &#x27;Audi Q5 2.0&#x27;, &#x27;Audi Q7&#x27;, &#x27;BMW 3 Series&#x27;,\n       &#x27;BMW 5 Series&#x27;, &#x27;BMW 7 Series&#x27;, &#x27;BMW X1&#x27;, &#x27;BMW X1 sDrive20d&#x27;,\n       &#x27;BMW X1 xDrive20d&#x27;, &#x27;Chevrolet Beat&#x27;, &#x27;Chevrolet Beat Diesel&#x27;,\n       &#x27;Chevrolet Beat LS&#x27;, &#x27;Chevrolet B...\n       &#x27;Volkswagen Vento Konekt&#x27;, &#x27;Volvo S80 Summum&#x27;], dtype=object),\n                                                           array([&#x27;Audi&#x27;, &#x27;BMW&#x27;, &#x27;Chevrolet&#x27;, &#x27;Datsun&#x27;, &#x27;Fiat&#x27;, &#x27;Force&#x27;, &#x27;Ford&#x27;,\n       &#x27;Hindustan&#x27;, &#x27;Honda&#x27;, &#x27;Hyundai&#x27;, &#x27;Jaguar&#x27;, &#x27;Jeep&#x27;, &#x27;Land&#x27;,\n       &#x27;Mahindra&#x27;, &#x27;Maruti&#x27;, &#x27;Mercedes&#x27;, &#x27;Mini&#x27;, &#x27;Mitsubishi&#x27;, &#x27;Nissan&#x27;,\n       &#x27;Renault&#x27;, &#x27;Skoda&#x27;, &#x27;Tata&#x27;, &#x27;Toyota&#x27;, &#x27;Volkswagen&#x27;, &#x27;Volvo&#x27;],\n      dtype=object),\n                                                           array([&#x27;Diesel&#x27;, &#x27;LPG&#x27;, &#x27;Petrol&#x27;], dtype=object)]),\n                                 [&#x27;name&#x27;, &#x27;company&#x27;, &#x27;fuel_type&#x27;])])</pre></div></div></div><div class=\"sk-parallel\"><div class=\"sk-parallel-item\"><div class=\"sk-item\"><div class=\"sk-label-container\"><div class=\"sk-label sk-toggleable\"><input class=\"sk-toggleable__control sk-hidden--visually\" id=\"sk-estimator-id-42\" type=\"checkbox\" ><label for=\"sk-estimator-id-42\" class=\"sk-toggleable__label sk-toggleable__label-arrow\">onehotencoder</label><div class=\"sk-toggleable__content\"><pre>[&#x27;name&#x27;, &#x27;company&#x27;, &#x27;fuel_type&#x27;]</pre></div></div></div><div class=\"sk-serial\"><div class=\"sk-item\"><div class=\"sk-estimator sk-toggleable\"><input class=\"sk-toggleable__control sk-hidden--visually\" id=\"sk-estimator-id-43\" type=\"checkbox\" ><label for=\"sk-estimator-id-43\" class=\"sk-toggleable__label sk-toggleable__label-arrow\">OneHotEncoder</label><div class=\"sk-toggleable__content\"><pre>OneHotEncoder(categories=[array([&#x27;Audi A3 Cabriolet&#x27;, &#x27;Audi A4 1.8&#x27;, &#x27;Audi A4 2.0&#x27;, &#x27;Audi A6 2.0&#x27;,\n       &#x27;Audi A8&#x27;, &#x27;Audi Q3 2.0&#x27;, &#x27;Audi Q5 2.0&#x27;, &#x27;Audi Q7&#x27;, &#x27;BMW 3 Series&#x27;,\n       &#x27;BMW 5 Series&#x27;, &#x27;BMW 7 Series&#x27;, &#x27;BMW X1&#x27;, &#x27;BMW X1 sDrive20d&#x27;,\n       &#x27;BMW X1 xDrive20d&#x27;, &#x27;Chevrolet Beat&#x27;, &#x27;Chevrolet Beat Diesel&#x27;,\n       &#x27;Chevrolet Beat LS&#x27;, &#x27;Chevrolet Beat LT&#x27;, &#x27;Chevrolet Beat PS&#x27;,\n       &#x27;Chevrolet Cruze LTZ&#x27;, &#x27;Chevrolet Enjoy&#x27;, &#x27;Chevrolet E...\n       &#x27;Volkswagen Vento Comfortline&#x27;, &#x27;Volkswagen Vento Highline&#x27;,\n       &#x27;Volkswagen Vento Konekt&#x27;, &#x27;Volvo S80 Summum&#x27;], dtype=object),\n                          array([&#x27;Audi&#x27;, &#x27;BMW&#x27;, &#x27;Chevrolet&#x27;, &#x27;Datsun&#x27;, &#x27;Fiat&#x27;, &#x27;Force&#x27;, &#x27;Ford&#x27;,\n       &#x27;Hindustan&#x27;, &#x27;Honda&#x27;, &#x27;Hyundai&#x27;, &#x27;Jaguar&#x27;, &#x27;Jeep&#x27;, &#x27;Land&#x27;,\n       &#x27;Mahindra&#x27;, &#x27;Maruti&#x27;, &#x27;Mercedes&#x27;, &#x27;Mini&#x27;, &#x27;Mitsubishi&#x27;, &#x27;Nissan&#x27;,\n       &#x27;Renault&#x27;, &#x27;Skoda&#x27;, &#x27;Tata&#x27;, &#x27;Toyota&#x27;, &#x27;Volkswagen&#x27;, &#x27;Volvo&#x27;],\n      dtype=object),\n                          array([&#x27;Diesel&#x27;, &#x27;LPG&#x27;, &#x27;Petrol&#x27;], dtype=object)])</pre></div></div></div></div></div></div><div class=\"sk-parallel-item\"><div class=\"sk-item\"><div class=\"sk-label-container\"><div class=\"sk-label sk-toggleable\"><input class=\"sk-toggleable__control sk-hidden--visually\" id=\"sk-estimator-id-44\" type=\"checkbox\" ><label for=\"sk-estimator-id-44\" class=\"sk-toggleable__label sk-toggleable__label-arrow\">remainder</label><div class=\"sk-toggleable__content\"><pre>[&#x27;year&#x27;, &#x27;kms_driven&#x27;]</pre></div></div></div><div class=\"sk-serial\"><div class=\"sk-item\"><div class=\"sk-estimator sk-toggleable\"><input class=\"sk-toggleable__control sk-hidden--visually\" id=\"sk-estimator-id-45\" type=\"checkbox\" ><label for=\"sk-estimator-id-45\" class=\"sk-toggleable__label sk-toggleable__label-arrow\">passthrough</label><div class=\"sk-toggleable__content\"><pre>passthrough</pre></div></div></div></div></div></div></div></div><div class=\"sk-item\"><div class=\"sk-estimator sk-toggleable\"><input class=\"sk-toggleable__control sk-hidden--visually\" id=\"sk-estimator-id-46\" type=\"checkbox\" ><label for=\"sk-estimator-id-46\" class=\"sk-toggleable__label sk-toggleable__label-arrow\">LinearRegression</label><div class=\"sk-toggleable__content\"><pre>LinearRegression()</pre></div></div></div></div></div></div></div>"
     },
     "execution_count": 154,
     "metadata": {},
     "output_type": "execute_result"
    }
   ],
   "source": [
    "pipe.fit(X_train,y_train)"
   ],
   "metadata": {
    "collapsed": false,
    "pycharm": {
     "name": "#%%\n"
    }
   }
  },
  {
   "cell_type": "code",
   "execution_count": 155,
   "outputs": [],
   "source": [
    "pred_y = pipe.predict(X_test)"
   ],
   "metadata": {
    "collapsed": false,
    "pycharm": {
     "name": "#%%\n"
    }
   }
  },
  {
   "cell_type": "code",
   "execution_count": 157,
   "outputs": [
    {
     "data": {
      "text/plain": "0.573149277112929"
     },
     "execution_count": 157,
     "metadata": {},
     "output_type": "execute_result"
    }
   ],
   "source": [
    "r2_score(y_test,pred_y)"
   ],
   "metadata": {
    "collapsed": false,
    "pycharm": {
     "name": "#%%\n"
    }
   }
  },
  {
   "cell_type": "code",
   "execution_count": 161,
   "outputs": [],
   "source": [
    "scroes = []\n",
    "\n",
    "for i in range(1000):\n",
    "    X_train, X_test, y_train, y_test = train_test_split(X, y, test_size=0.2, random_state=i)\n",
    "    lr = LinearRegression()\n",
    "    pipe = Pipeline(steps=[('colum_transformer',colum_transformer),('linear_regression',lr)])\n",
    "    pipe.fit(X_train,y_train)\n",
    "    pred_y = pipe.predict(X_test)\n",
    "    scroes.append(r2_score(y_test,pred_y))"
   ],
   "metadata": {
    "collapsed": false,
    "pycharm": {
     "name": "#%%\n"
    }
   }
  },
  {
   "cell_type": "code",
   "execution_count": 162,
   "outputs": [
    {
     "data": {
      "text/plain": "433"
     },
     "execution_count": 162,
     "metadata": {},
     "output_type": "execute_result"
    }
   ],
   "source": [
    "np.argmax(scroes)"
   ],
   "metadata": {
    "collapsed": false,
    "pycharm": {
     "name": "#%%\n"
    }
   }
  },
  {
   "cell_type": "code",
   "execution_count": 163,
   "outputs": [
    {
     "data": {
      "text/plain": "0.8456515104452564"
     },
     "execution_count": 163,
     "metadata": {},
     "output_type": "execute_result"
    }
   ],
   "source": [
    "np.max(scroes)"
   ],
   "metadata": {
    "collapsed": false,
    "pycharm": {
     "name": "#%%\n"
    }
   }
  },
  {
   "cell_type": "code",
   "execution_count": 164,
   "outputs": [
    {
     "data": {
      "text/plain": "0.8456515104452564"
     },
     "execution_count": 164,
     "metadata": {},
     "output_type": "execute_result"
    }
   ],
   "source": [
    "X_train, X_test, y_train, y_test = train_test_split(X, y, test_size=0.2, random_state=np.argmax(scroes))\n",
    "lr = LinearRegression()\n",
    "pipe = Pipeline(steps=[('colum_transformer',colum_transformer),('linear_regression',lr)])\n",
    "pipe.fit(X_train,y_train)\n",
    "pred_y = pipe.predict(X_test)\n",
    "r2_score(y_test,pred_y)"
   ],
   "metadata": {
    "collapsed": false,
    "pycharm": {
     "name": "#%%\n"
    }
   }
  },
  {
   "cell_type": "code",
   "execution_count": 167,
   "outputs": [],
   "source": [
    "import pickle"
   ],
   "metadata": {
    "collapsed": false,
    "pycharm": {
     "name": "#%%\n"
    }
   }
  },
  {
   "cell_type": "code",
   "execution_count": 169,
   "outputs": [],
   "source": [
    "pickle.dump(pipe,open('model/LinearRegressionModel.pkl','wb'))"
   ],
   "metadata": {
    "collapsed": false,
    "pycharm": {
     "name": "#%%\n"
    }
   }
  },
  {
   "cell_type": "code",
   "execution_count": 170,
   "outputs": [],
   "source": [
    "pipe = pickle.load(open('model/LinearRegressionModel.pkl','rb'))"
   ],
   "metadata": {
    "collapsed": false,
    "pycharm": {
     "name": "#%%\n"
    }
   }
  },
  {
   "cell_type": "code",
   "execution_count": 175,
   "outputs": [],
   "source": [
    "new_car = pd.DataFrame(data={'name':['Hyundai Verna Fluidic'],\n",
    "                             'company':['Hyundai'],\n",
    "                             'fuel_type':['Diesel'],\n",
    "                             'kms_driven':[43000],\n",
    "                             'year':[2011]})"
   ],
   "metadata": {
    "collapsed": false,
    "pycharm": {
     "name": "#%%\n"
    }
   }
  },
  {
   "cell_type": "code",
   "execution_count": 176,
   "outputs": [
    {
     "data": {
      "text/plain": "array([280213.45666694])"
     },
     "execution_count": 176,
     "metadata": {},
     "output_type": "execute_result"
    }
   ],
   "source": [
    " pipe.predict(new_car)"
   ],
   "metadata": {
    "collapsed": false,
    "pycharm": {
     "name": "#%%\n"
    }
   }
  },
  {
   "cell_type": "code",
   "execution_count": null,
   "outputs": [],
   "source": [
    ",,2011,365000,43000,Diesel"
   ],
   "metadata": {
    "collapsed": false,
    "pycharm": {
     "name": "#%%\n"
    }
   }
  }
 ],
 "metadata": {
  "kernelspec": {
   "display_name": "Python 3",
   "language": "python",
   "name": "python3"
  },
  "language_info": {
   "codemirror_mode": {
    "name": "ipython",
    "version": 2
   },
   "file_extension": ".py",
   "mimetype": "text/x-python",
   "name": "python",
   "nbconvert_exporter": "python",
   "pygments_lexer": "ipython2",
   "version": "2.7.6"
  }
 },
 "nbformat": 4,
 "nbformat_minor": 0
}